{
 "cells": [
  {
   "cell_type": "markdown",
   "id": "f1f4b2da",
   "metadata": {},
   "source": [
    "# Taller 1"
   ]
  },
  {
   "cell_type": "markdown",
   "id": "3dd28649",
   "metadata": {},
   "source": [
    "## Adjunto a este script encontrará un conjunto de datos (.csv) el cual contiene valores de concentración de metano (en ppb) promedio desde el año 2019 al 2024 en algunas zonas del territorio colombiano. A partir de esta información:"
   ]
  },
  {
   "cell_type": "markdown",
   "id": "502c63bf",
   "metadata": {},
   "source": [
    "### 1. Muestre los datos en el explorador de geopandas"
   ]
  },
  {
   "cell_type": "markdown",
   "id": "974045fd",
   "metadata": {},
   "source": [
    "### 2. Estime y proyecte el centro medio y centro medio ponderado (variable CH4)"
   ]
  },
  {
   "cell_type": "markdown",
   "id": "b54cfada",
   "metadata": {},
   "source": [
    "### 3. Estime y proyecte la mediana con base en la longitud, latitud y las concentraciones de CH4"
   ]
  },
  {
   "cell_type": "markdown",
   "id": "dcd12451",
   "metadata": {},
   "source": [
    "### 4. Estime y analice brevemente parametros descriptivos como el promedio, la mediana, el mínimo y el máximo. Tenga en cuenta que al llegar a este punto ya conoce el promedio y la mediana de las concentraciones de CH4. Que relación tienen con el posicionamiento espacial en que marcan dichos resultados. Respecto a la moda, proyecto un histograma de las concentraciones de CH4 (las cuales están en ppb)."
   ]
  },
  {
   "cell_type": "markdown",
   "id": "3c0673e3",
   "metadata": {},
   "source": [
    "### 5. Estime y proyecto la desviación estándar de los datos"
   ]
  }
 ],
 "metadata": {
  "kernelspec": {
   "display_name": "Python 3 (ipykernel)",
   "language": "python",
   "name": "python3"
  },
  "language_info": {
   "codemirror_mode": {
    "name": "ipython",
    "version": 3
   },
   "file_extension": ".py",
   "mimetype": "text/x-python",
   "name": "python",
   "nbconvert_exporter": "python",
   "pygments_lexer": "ipython3",
   "version": "3.11.3"
  }
 },
 "nbformat": 4,
 "nbformat_minor": 5
}
