{
 "cells": [
  {
   "cell_type": "code",
   "execution_count": null,
   "id": "e0ddf07f",
   "metadata": {},
   "outputs": [],
   "source": [
    "import pandas as pd\n",
    "import numpy as np\n",
    "import matplotlib.pyplot as plt"
   ]
  },
  {
   "cell_type": "code",
   "execution_count": null,
   "id": "a17232af",
   "metadata": {},
   "outputs": [],
   "source": [
    "import geopandas as gpd\n",
    "import shapely\n",
    "from shapely import Point, Polygon, LineString\n",
    "import folium"
   ]
  },
  {
   "cell_type": "markdown",
   "id": "f1f4b2da",
   "metadata": {},
   "source": [
    "# Taller 1"
   ]
  },
  {
   "cell_type": "markdown",
   "id": "3dd28649",
   "metadata": {},
   "source": [
    "## Adjunto a este script encontrará un conjunto de datos (.csv) el cual contiene valores de concentración de metano (en ppb) promedio desde el año 2019 al 2024 en algunas zonas del territorio colombiano. A partir de esta información:"
   ]
  },
  {
   "cell_type": "markdown",
   "id": "502c63bf",
   "metadata": {},
   "source": [
    "### 1. Muestre los datos en el explorador de geopandas"
   ]
  },
  {
   "cell_type": "code",
   "execution_count": null,
   "id": "4268535f",
   "metadata": {},
   "outputs": [],
   "source": [
    "CH4 = pd.read_csv(\"CH4_mean_2019-2024.csv\")"
   ]
  },
  {
   "cell_type": "code",
   "execution_count": null,
   "id": "8dbc53a5",
   "metadata": {},
   "outputs": [],
   "source": [
    "CH4_gdf = gpd.GeoDataFrame(CH4, geometry=gpd.points_from_xy(CH4.x, CH4.y),crs=\"EPSG:4326\")"
   ]
  },
  {
   "cell_type": "code",
   "execution_count": null,
   "id": "ff184292",
   "metadata": {},
   "outputs": [],
   "source": [
    "CH4_gdf.head(4)"
   ]
  },
  {
   "cell_type": "code",
   "execution_count": null,
   "id": "d4d47c43",
   "metadata": {},
   "outputs": [],
   "source": [
    "CH4_gdf.explore(column=\"CH4ppb\",cmap=\"Set1\", style_kwds=dict(marker_type=\"circle_marker\"))"
   ]
  },
  {
   "cell_type": "markdown",
   "id": "974045fd",
   "metadata": {},
   "source": [
    "### 2. Estime y proyecte el centro medio y centro medio ponderado (variable CH4)"
   ]
  },
  {
   "cell_type": "code",
   "execution_count": null,
   "id": "bf3699ea",
   "metadata": {},
   "outputs": [],
   "source": [
    "MeanX = CH4_gdf.x.mean()\n",
    "MeanY = CH4_gdf.y.mean()"
   ]
  },
  {
   "cell_type": "code",
   "execution_count": null,
   "id": "8167939e",
   "metadata": {},
   "outputs": [],
   "source": [
    "MeanX"
   ]
  },
  {
   "cell_type": "code",
   "execution_count": null,
   "id": "ed7120b8",
   "metadata": {},
   "outputs": [],
   "source": [
    "MeanY"
   ]
  },
  {
   "cell_type": "code",
   "execution_count": null,
   "id": "e52a2790",
   "metadata": {},
   "outputs": [],
   "source": [
    "MeanWx = (CH4_gdf.x * CH4_gdf.CH4ppb).sum() / CH4_gdf.CH4ppb.sum()"
   ]
  },
  {
   "cell_type": "code",
   "execution_count": null,
   "id": "a462cf89",
   "metadata": {},
   "outputs": [],
   "source": [
    "MeanWy = (CH4_gdf.y * CH4_gdf.CH4ppb).sum() / CH4_gdf.CH4ppb.sum()"
   ]
  },
  {
   "cell_type": "code",
   "execution_count": null,
   "id": "ec1fd3f6",
   "metadata": {},
   "outputs": [],
   "source": [
    "MeanWx"
   ]
  },
  {
   "cell_type": "code",
   "execution_count": null,
   "id": "b97372b4",
   "metadata": {},
   "outputs": [],
   "source": [
    "MeanWy"
   ]
  },
  {
   "cell_type": "code",
   "execution_count": null,
   "id": "69bb5d2b",
   "metadata": {},
   "outputs": [],
   "source": [
    "Mean = pd.DataFrame({\"x\":[MeanX], \"y\":[MeanY]})\n",
    "MeanW = pd.DataFrame({\"x\":[MeanWx], \"y\":[MeanWy]})"
   ]
  },
  {
   "cell_type": "code",
   "execution_count": null,
   "id": "d5de2a3b",
   "metadata": {},
   "outputs": [],
   "source": [
    "Mean = gpd.GeoDataFrame(Mean, geometry=gpd.points_from_xy(Mean.x, Mean.y),crs=\"EPSG:4326\")"
   ]
  },
  {
   "cell_type": "code",
   "execution_count": null,
   "id": "25c21f8b",
   "metadata": {},
   "outputs": [],
   "source": [
    "MeanW = gpd.GeoDataFrame(MeanW, geometry=gpd.points_from_xy(MeanW.x, MeanW.y),crs=\"EPSG:4326\")"
   ]
  },
  {
   "cell_type": "code",
   "execution_count": null,
   "id": "5eaed3eb",
   "metadata": {},
   "outputs": [],
   "source": [
    "m= CH4_gdf.explore(column=\"CH4ppb\",cmap=\"Set1\", style_kwds=dict(marker_type=\"circle_marker\"))\n",
    "m= Mean.explore(m=m,color=\"red\",marker_kwds=dict(radius=10, fill=True))\n",
    "MeanW.explore(m=m,color=\"green\",marker_kwds=dict(radius=10, fill=True))"
   ]
  },
  {
   "cell_type": "markdown",
   "id": "b54cfada",
   "metadata": {},
   "source": [
    "### 3. Estime y proyecte la mediana con base en la longitud, latitud y las concentraciones de CH4"
   ]
  },
  {
   "cell_type": "code",
   "execution_count": null,
   "id": "fecba158",
   "metadata": {},
   "outputs": [],
   "source": [
    "MedianX = CH4_gdf.x.median()\n",
    "MedianY = CH4_gdf.y.median()"
   ]
  },
  {
   "cell_type": "code",
   "execution_count": null,
   "id": "815e0d48",
   "metadata": {},
   "outputs": [],
   "source": [
    "MedianX"
   ]
  },
  {
   "cell_type": "code",
   "execution_count": null,
   "id": "c06acc34",
   "metadata": {},
   "outputs": [],
   "source": [
    "MedianY"
   ]
  },
  {
   "cell_type": "code",
   "execution_count": null,
   "id": "f094d356",
   "metadata": {},
   "outputs": [],
   "source": [
    "Median = pd.DataFrame({\"x\":[MedianX], \"y\":[MedianY]})"
   ]
  },
  {
   "cell_type": "code",
   "execution_count": null,
   "id": "ea01f243",
   "metadata": {},
   "outputs": [],
   "source": [
    "Median = gpd.GeoDataFrame(Median, geometry=gpd.points_from_xy(Median.x, Median.y),crs=\"EPSG:4326\")"
   ]
  },
  {
   "cell_type": "code",
   "execution_count": null,
   "id": "5da37b73",
   "metadata": {},
   "outputs": [],
   "source": [
    "CH4_gdf.describe()"
   ]
  },
  {
   "cell_type": "code",
   "execution_count": null,
   "id": "772ade53",
   "metadata": {},
   "outputs": [],
   "source": [
    "m= CH4_gdf.explore(column=\"CH4ppb\",cmap=\"Set1\", style_kwds=dict(marker_type=\"circle_marker\"))\n",
    "m= Mean.explore(m=m,color=\"red\",marker_kwds=dict(radius=10, fill=True))\n",
    "m= MeanW.explore(m=m,color=\"green\",marker_kwds=dict(radius=10, fill=True))\n",
    "Median.explore(m=m,color=\"blue\",marker_kwds=dict(radius=10, fill=True))"
   ]
  },
  {
   "cell_type": "markdown",
   "id": "dcd12451",
   "metadata": {},
   "source": [
    "### 4. Estime y analice brevemente parametros descriptivos como el promedio, la mediana, el mínimo y el máximo. Tenga en cuenta que al llegar a este punto ya conoce el promedio y la mediana de las concentraciones de CH4. Que relación tienen con el posicionamiento espacial en que marcan dichos resultados. Respecto a la moda, proyecto un histograma de las concentraciones de CH4 (las cuales están en ppb)."
   ]
  },
  {
   "cell_type": "code",
   "execution_count": null,
   "id": "e3958230",
   "metadata": {},
   "outputs": [],
   "source": [
    "CH4_gdf[CH4_gdf.CH4ppb == CH4_gdf.CH4ppb.max()]"
   ]
  },
  {
   "cell_type": "code",
   "execution_count": null,
   "id": "792eb6b8",
   "metadata": {},
   "outputs": [],
   "source": [
    "CH4_gdf[CH4_gdf.CH4ppb == CH4_gdf.CH4ppb.min()]"
   ]
  },
  {
   "cell_type": "code",
   "execution_count": null,
   "id": "11668541",
   "metadata": {},
   "outputs": [],
   "source": [
    "Max = pd.DataFrame({\"x\":[-74.845342], \"y\":[4.30502]})\n",
    "Max = gpd.GeoDataFrame(Max, geometry=gpd.points_from_xy(Max.x, Max.y),crs=\"EPSG:4326\")"
   ]
  },
  {
   "cell_type": "code",
   "execution_count": null,
   "id": "cdfc458b",
   "metadata": {},
   "outputs": [],
   "source": [
    "Min = pd.DataFrame({\"x\":[-73.745337], \"y\":[2.595012]})\n",
    "Min = gpd.GeoDataFrame(Min, geometry=gpd.points_from_xy(Min.x, Min.y),crs=\"EPSG:4326\")"
   ]
  },
  {
   "cell_type": "code",
   "execution_count": null,
   "id": "2dbd4ece",
   "metadata": {},
   "outputs": [],
   "source": [
    "m= Mean.explore(m=m,color=\"red\",marker_kwds=dict(radius=10, fill=True))\n",
    "m= MeanW.explore(m=m,color=\"green\",marker_kwds=dict(radius=10, fill=True))\n",
    "m = Median.explore(m=m,color=\"blue\",marker_kwds=dict(radius=10, fill=True))\n",
    "m = Max.explore(m=m,color=\"yellow\",marker_kwds=dict(radius=10, fill=True))\n",
    "Min.explore(m=m,color=\"orange\",marker_kwds=dict(radius=10, fill=True))"
   ]
  },
  {
   "cell_type": "code",
   "execution_count": null,
   "id": "fe75f017",
   "metadata": {},
   "outputs": [],
   "source": [
    "plt.hist(CH4_gdf.CH4ppb, bins=25)\n",
    "plt.xlabel(\"$CH_4$ (ppb)\")"
   ]
  },
  {
   "cell_type": "markdown",
   "id": "3c0673e3",
   "metadata": {},
   "source": [
    "### 5. Estime y proyecto la desviación estándar de los datos"
   ]
  },
  {
   "cell_type": "code",
   "execution_count": null,
   "id": "708eac94",
   "metadata": {},
   "outputs": [],
   "source": [
    "promX = CH4_gdf.x.mean()\n",
    "promY = CH4_gdf.y.mean()\n",
    "Promedio = gpd.GeoSeries([Point(promX,promY)])\n",
    "\n",
    "medX = CH4_gdf.x.median()\n",
    "medY = CH4_gdf.y.median()\n",
    "Mediana = gpd.GeoSeries([Point(medX,medY)])\n",
    "\n",
    "w= 1\n",
    "x_i = (CH4_gdf.x * w)-promX\n",
    "y_i = (CH4_gdf.y * w)-promY\n",
    "x_i2 = (x_i**2).sum()\n",
    "y_i2 = (y_i**2).sum()\n",
    "xi2_yi2 = x_i2-y_i2\n",
    "xiyi = (x_i*y_i).sum()\n",
    "xiyi2 = xiyi**2\n",
    "theta = np.arctan((xi2_yi2 + np.sqrt(np.abs(xi2_yi2) + 4*xiyi2))/(2*xiyi2))\n",
    "\n",
    "n = len(CH4_gdf)\n",
    "ysen = y_i* (np.sin(theta))\n",
    "ycos = y_i*np.cos(theta)\n",
    "xsen = x_i*np.sin(theta)\n",
    "xcos = x_i*np.cos(theta)\n",
    "sigmax = np.sqrt( (1/n) * ((ysen+xcos)**2).sum() )\n",
    "sigmay = np.sqrt( (1/n) * ((ycos+xsen)**2).sum() )"
   ]
  },
  {
   "cell_type": "code",
   "execution_count": null,
   "id": "b336bdde",
   "metadata": {},
   "outputs": [],
   "source": [
    "theta_degree = np.degrees(theta)\n",
    "theta_degree"
   ]
  },
  {
   "cell_type": "code",
   "execution_count": null,
   "id": "bfa8fb6c",
   "metadata": {},
   "outputs": [],
   "source": [
    "ellipse = ((promX, promY),(sigmax, sigmay),theta_degree)"
   ]
  },
  {
   "cell_type": "code",
   "execution_count": null,
   "id": "9c9dc004",
   "metadata": {},
   "outputs": [],
   "source": [
    "print(ellipse[1][0], ellipse[1][1])"
   ]
  },
  {
   "cell_type": "code",
   "execution_count": null,
   "id": "1306b196",
   "metadata": {},
   "outputs": [],
   "source": [
    "ell  = shapely.affinity.scale(Point(ellipse[0]).buffer(1), ellipse[1][0], ellipse[1][1]) #tomamos sigmax y sigmay para crear elipse\n",
    "ell"
   ]
  },
  {
   "cell_type": "code",
   "execution_count": null,
   "id": "72aeedc5",
   "metadata": {},
   "outputs": [],
   "source": [
    "ellr = shapely.affinity.rotate(ell,ellipse[2]) #rotamos la elipse\n",
    "ellr"
   ]
  },
  {
   "cell_type": "code",
   "execution_count": null,
   "id": "597f1cbf",
   "metadata": {},
   "outputs": [],
   "source": [
    "ellr = gpd.GeoSeries([ellr])"
   ]
  },
  {
   "cell_type": "code",
   "execution_count": null,
   "id": "56e8079f",
   "metadata": {},
   "outputs": [],
   "source": [
    "m = CH4_gdf.explore(column=\"CH4ppb\", legend=False, color=\"black\", marker_kwds=dict(radius=1, fill=True))\n",
    "ellr.explore(m=m, color=\"yellow\")"
   ]
  },
  {
   "cell_type": "code",
   "execution_count": null,
   "id": "0aefdb2f",
   "metadata": {},
   "outputs": [],
   "source": []
  }
 ],
 "metadata": {
  "kernelspec": {
   "display_name": "Python 3 (ipykernel)",
   "language": "python",
   "name": "python3"
  },
  "language_info": {
   "codemirror_mode": {
    "name": "ipython",
    "version": 3
   },
   "file_extension": ".py",
   "mimetype": "text/x-python",
   "name": "python",
   "nbconvert_exporter": "python",
   "pygments_lexer": "ipython3",
   "version": "3.11.3"
  }
 },
 "nbformat": 4,
 "nbformat_minor": 5
}
